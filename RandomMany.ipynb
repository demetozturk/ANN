{
 "cells": [
  {
   "cell_type": "markdown",
   "id": "49315b09",
   "metadata": {},
   "source": [
    "Seçilen veri seti modele uyarlanmaya çalışıldığından ve düzenlenmeden kullanıldığından kurulan yapı iyi sonuç vermemiştir. Bu nedenle rassal sayılar ile 1'den fazla örnek oluşturularak deneme yapılmıştır, sonuç aşağıdaki gibi iyileşmiştir."
   ]
  },
  {
   "cell_type": "code",
   "execution_count": 1,
   "id": "b67965bf",
   "metadata": {},
   "outputs": [
    {
     "data": {
      "text/plain": [
       "Text(0.5, 1.0, 'Loss Function Change Graph')"
      ]
     },
     "execution_count": 1,
     "metadata": {},
     "output_type": "execute_result"
    },
    {
     "data": {
      "image/png": "[encoded data removed]",
      "text/plain": [
       "<Figure size 432x288 with 1 Axes>"
      ]
     },
     "metadata": {
      "needs_background": "light"
     },
     "output_type": "display_data"
    }
   ],
   "source": [
    "\n",
    "# %%\n",
    "from unittest import result\n",
    "from sklearn.metrics import mean_squared_error\n",
    "from cmath import sqrt\n",
    "import numpy as np                          # importing NumPy\n",
    "np.random.seed(42)\n",
    "input_nodes = 6                             # nodes in each layer\n",
    "hidden_nodes = 4\n",
    "output1_nodes = 1\n",
    "output2_nodes=1\n",
    "\n",
    "#define functions\n",
    "\n",
    "def sig(x):                                     # Sigmoid\n",
    "    return 1/(1 + np.exp(-x))\n",
    "def sig_derv(x):                                # Sogmoid derivative\n",
    "    return sig(x) * (1 - sig(x))\n",
    "\n",
    "# MSE as a loss function\n",
    "def mse_derv(y_true, y_pred):\n",
    "    return -2*(y_true-y_pred)\n",
    "\n",
    "# MAE for test values\n",
    "def mae(y_true, y_pred):                        \n",
    "    return np.mean(abs(y_true - y_pred))\n",
    "\n",
    "\n",
    "w1 = np.random.random(size = (hidden_nodes, input_nodes))  # w1\n",
    "b1 = np.zeros(shape = (hidden_nodes, 1))                     # b1\n",
    "w2 = np.random.random(size = (output1_nodes, hidden_nodes)) # w2\n",
    "b2 = np.zeros(shape = (output1_nodes, 1))                     # b2\n",
    "w3 = np.random.random(size = (output2_nodes, hidden_nodes)) # w3\n",
    "b3 = np.zeros(shape = (output2_nodes, 1))     #b3\n",
    "\n",
    "# x and y changed\n",
    "x= np.random.randint(1,100,size=(input_nodes,50))/ 100\n",
    "y1=np.random.randint(1,100,size=(output1_nodes,50)) / 100\n",
    "y2=np.random.randint(1,100,size=(output2_nodes,50)) / 100\n",
    "x_test= np.random.randint(1,100,size=(input_nodes,10))/ 100\n",
    "y1_test=np.random.randint(1,100,size=(output1_nodes,10)) / 100\n",
    "y2_test=np.random.randint(1,100,size=(output2_nodes,10)) / 100\n",
    "\n",
    "#output of layer\n",
    "\n",
    "in_hidden=w1.dot(x)+b1\n",
    "out_hidden=sig(in_hidden)\n",
    "\n",
    "in_output1_layer=w2.dot(out_hidden)+b2\n",
    "y1_hat=sig(in_output1_layer)\n",
    "\n",
    "in_output2_layer=w3.dot(out_hidden)+b3\n",
    "y2_hat=sig(in_output2_layer)\n",
    "\n",
    "\n",
    "\n",
    "#calculation loss mse(y,y_hat)\n",
    "\n",
    "\n",
    "learning_rate=0.09\n",
    "\n",
    "epochs=10\n",
    "\n",
    "# feed forward\n",
    "lossf=[] # train loss values\n",
    "epclis=[] #epoch numbers\n",
    "lossft=[] #test loss values\n",
    "ols1=[] # error values for output 1 in test \n",
    "ols2=[] # error values for output 2 in test \n",
    "\n",
    "#training\n",
    "\n",
    "for epoch in range(epochs):\n",
    "\n",
    "    in_hidden=w1.dot(x)+b1\n",
    "    out_hidden=sig(in_hidden)\n",
    "\n",
    "    in_output1_layer=w2.dot(out_hidden)+b2\n",
    "    y1_hat=sig(in_output1_layer)\n",
    "\n",
    "    in_output2_layer=w3.dot(out_hidden)+b3\n",
    "    y2_hat=sig(in_output2_layer)\n",
    " \n",
    "\n",
    "    loss1= mean_squared_error(y1,y1_hat)\n",
    "    loss2= mean_squared_error(y2,y2_hat)\n",
    "    epclis.append(epoch)\n",
    "    total_Loss=round(loss1 + loss2,2)\n",
    "    lossf.append(total_Loss)\n",
    "\n",
    "# back propagation\n",
    "\n",
    "    grad_w2=(mse_derv(y1,y1_hat)*sig_derv(in_output1_layer)).dot(out_hidden.T)\n",
    "    grad_b2=mse_derv(y1,y1_hat).dot(sig_derv(in_output1_layer).T)\n",
    "    grad_w3=(mse_derv(y2,y2_hat)*sig_derv(in_output2_layer)).dot(out_hidden.T)\n",
    "    grad_b3=mse_derv(y2,y2_hat).dot(sig_derv(in_output2_layer).T)\n",
    "\n",
    "\n",
    "    error_grad_Hw = ( np.sum((mse_derv(y1, y1_hat) * sig_derv(in_output1_layer)).T * w2, axis = 0).reshape((-1, 1)) \n",
    "                     + np.sum((mse_derv(y2, y2_hat) * sig_derv(in_output2_layer)).T * w3, axis = 0).reshape((-1, 1)) )\n",
    "    grad_w1= (error_grad_Hw*sig_derv(in_hidden)).dot(x.T)\n",
    "    error_grad_Hb=  ( np.sum((mse_derv(y1, y1_hat) * sig_derv(in_output1_layer)).T, axis = 0).reshape((-1, 1))\n",
    "                     + np.sum((mse_derv(y2, y2_hat) * sig_derv(in_output2_layer)).T, axis = 0).reshape((-1, 1)) )\n",
    "    grad_b1=  error_grad_Hw\n",
    "\n",
    "    #update weights and biases\n",
    "\n",
    "    update_w1 = -learning_rate* grad_w1                        \n",
    "    w1 += update_w1                                             # w1\n",
    "\n",
    "    update_b1 = -learning_rate * grad_b1\n",
    "    b1 += update_b1                                             # b1\n",
    "    \n",
    "    update_w2 = -learning_rate * grad_w2\n",
    "    w2 += update_w2                                             # w2\n",
    "    \n",
    "    update_b2 = -learning_rate * grad_b2\n",
    "    b2 += update_b2                                             # b2\n",
    "    \n",
    "    update_w3 = -learning_rate * grad_w3\n",
    "    w3 += update_w3                                             # w3\n",
    "    \n",
    "    update_b3 = -learning_rate * grad_b3\n",
    "    b3 += update_b3  \n",
    "\n",
    "\n",
    "\n",
    "# test\n",
    "\n",
    "epclist=[] #test epoch number\n",
    "\n",
    "for epoch in range(epochs):\n",
    "\n",
    "    in_hidden=w1.dot(x_test)+b1\n",
    "    out_hidden=sig(in_hidden)\n",
    "\n",
    "    in_output1_layer=w2.dot(out_hidden)+b2\n",
    "    y1_hat_test=sig(in_output1_layer)\n",
    "\n",
    "    in_output2_layer=w3.dot(out_hidden)+b3\n",
    "    y2_hat_test=sig(in_output2_layer)\n",
    " \n",
    "\n",
    "    loss1t= mean_squared_error(y1_test,y1_hat_test)\n",
    "    loss2t= mean_squared_error(y2_test,y2_hat_test)\n",
    "    epclist.append(epoch)\n",
    "    total_Loss=round(loss1t + loss2t,2)\n",
    "    lossft.append(total_Loss)\n",
    "    ortloss1= mae(y1_test,y1_hat_test)\n",
    "    ortloss2= mae(y2_test,y2_hat_test)\n",
    "    ols1.append(ortloss1)\n",
    "    ols2.append(ortloss2)\n",
    "\n",
    "# back propagation\n",
    "\n",
    "    grad_w2=(mse_derv(y1_test,y1_hat_test)*sig_derv(in_output1_layer)).dot(out_hidden.T)\n",
    "    grad_b2=mse_derv(y1_test,y1_hat_test).dot(sig_derv(in_output1_layer).T)\n",
    "    grad_w3=(mse_derv(y2_test,y2_hat_test)*sig_derv(in_output2_layer)).dot(out_hidden.T)\n",
    "    grad_b3=mse_derv(y2_test,y2_hat_test).dot(sig_derv(in_output2_layer).T)\n",
    "\n",
    "    error_grad_Hw = ( np.sum((mse_derv(y1_test, y1_hat_test) * sig_derv(in_output1_layer)).T * w2, axis = 0).reshape((-1, 1))\n",
    "                     + np.sum((mse_derv(y2_test, y2_hat_test) * sig_derv(in_output2_layer)).T * w3, axis = 0).reshape((-1, 1)) )\n",
    "    grad_w1= (error_grad_Hw*sig_derv(in_hidden)).dot(x_test.T)\n",
    "    error_grad_Hb=  ( np.sum((mse_derv(y1_test, y1_hat_test) * sig_derv(in_output1_layer)), axis = 0).reshape((-1, 1))\n",
    "                     + np.sum((mse_derv(y2_test, y2_hat_test) * sig_derv(in_output2_layer)), axis = 0).reshape((-1, 1)) )\n",
    "    grad_b1=  error_grad_Hw\n",
    "\n",
    "    #update weights and biases\n",
    "\n",
    "    update_w1 = -learning_rate* grad_w1                        \n",
    "    w1 += update_w1                                             # w1\n",
    "\n",
    "    update_b1 = -learning_rate * grad_b1\n",
    "    b1 += update_b1                                             # b1\n",
    "    \n",
    "    update_w2 = -learning_rate * grad_w2\n",
    "    w2 += update_w2                                             # w2\n",
    "    \n",
    "    update_b2 = -learning_rate * grad_b2    \n",
    "    b2 += update_b2                                             # b2\n",
    "    \n",
    "    update_w3 = -learning_rate * grad_w3\n",
    "    w3 += update_w3                                             # w3\n",
    "    \n",
    "    update_b3 = -learning_rate * grad_b3\n",
    "    b3 += update_b3  \n",
    "\n",
    " \n",
    "\n",
    "import matplotlib.pyplot as plt\n",
    "plt.plot(epclis, lossf) # plot \n",
    "plt.xlabel('epochs')\n",
    "plt.ylabel('loss')\n",
    "plt.title('Loss Function Change Graph')\n",
    "\n",
    "\n",
    "\n",
    "# %%\n"
   ]
  },
  {
   "cell_type": "code",
   "execution_count": 2,
   "id": "7a4b747d",
   "metadata": {},
   "outputs": [
    {
     "data": {
      "text/plain": [
       "Text(0.5, 1.0, 'average loss graph for output1 ')"
      ]
     },
     "execution_count": 2,
     "metadata": {},
     "output_type": "execute_result"
    },
    {
     "data": {
      "image/png": "[encoded data removed]",
      "text/plain": [
       "<Figure size 432x288 with 1 Axes>"
      ]
     },
     "metadata": {
      "needs_background": "light"
     },
     "output_type": "display_data"
    }
   ],
   "source": [
    "plt.plot(epclist, ols1 ) # plot \n",
    "plt.xlabel('epochs')\n",
    "plt.ylabel('average loss in 1')\n",
    "plt.title('average loss graph for output1 ')"
   ]
  },
  {
   "cell_type": "code",
   "execution_count": 3,
   "id": "00facbb6",
   "metadata": {},
   "outputs": [
    {
     "data": {
      "text/plain": [
       "Text(0.5, 1.0, 'average loss graph for output2 ')"
      ]
     },
     "execution_count": 3,
     "metadata": {},
     "output_type": "execute_result"
    },
    {
     "data": {
      "image/png": "[encoded data removed]",
      "text/plain": [
       "<Figure size 432x288 with 1 Axes>"
      ]
     },
     "metadata": {
      "needs_background": "light"
     },
     "output_type": "display_data"
    }
   ],
   "source": [
    "plt.plot(epclist, ols1 ) # plot \n",
    "plt.xlabel('epochs')\n",
    "plt.ylabel('average loss in 2')\n",
    "plt.title('average loss graph for output2 ') "
   ]
  },
  {
   "cell_type": "code",
   "execution_count": null,
   "id": "72d6e036",
   "metadata": {},
   "outputs": [],
   "source": []
  }
 ],
 "metadata": {
  "kernelspec": {
   "display_name": "Python 3",
   "language": "python",
   "name": "python3"
  },
  "language_info": {
   "codemirror_mode": {
    "name": "ipython",
    "version": 3
   },
   "file_extension": ".py",
   "mimetype": "text/x-python",
   "name": "python",
   "nbconvert_exporter": "python",
   "pygments_lexer": "ipython3",
   "version": "3.8.8"
  }
 },
 "nbformat": 4,
 "nbformat_minor": 5
}
